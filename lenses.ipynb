{
 "cells": [
  {
   "cell_type": "code",
   "execution_count": 1,
   "metadata": {
    "colab": {
     "base_uri": "https://localhost:8080/"
    },
    "id": "ZWbRlOZd-qoJ",
    "outputId": "b68359ec-5191-4d8e-e0a5-323402d0a8c9"
   },
   "outputs": [
    {
     "name": "stdout",
     "output_type": "stream",
     "text": [
      "(24, 5)\n",
      "    age  prescription  astigmatic  rate  class\n",
      "id                                            \n",
      "1     1             1           1     1      3\n",
      "2     1             1           1     2      2\n",
      "3     1             1           2     1      3\n",
      "4     1             1           2     2      1\n",
      "5     1             2           1     1      3\n",
      "6     1             2           1     2      2\n",
      "7     1             2           2     1      3\n",
      "8     1             2           2     2      1\n",
      "9     2             1           1     1      3\n",
      "10    2             1           1     2      2\n",
      "11    2             1           2     1      3\n",
      "12    2             1           2     2      1\n",
      "13    2             2           1     1      3\n",
      "14    2             2           1     2      2\n",
      "15    2             2           2     1      3\n",
      "16    2             2           2     2      3\n",
      "17    3             1           1     1      3\n",
      "18    3             1           1     2      3\n",
      "19    3             1           2     1      3\n",
      "20    3             1           2     2      1\n",
      "21    3             2           1     1      3\n",
      "22    3             2           1     2      2\n",
      "23    3             2           2     1      3\n",
      "24    3             2           2     2      3\n"
     ]
    }
   ],
   "source": [
    "# 讀入資料\n",
    "import numpy as np\n",
    "import pandas as pd\n",
    "\n",
    "columns = ['id', 'age', 'prescription', 'astigmatic', 'rate', 'class']\n",
    "\n",
    "#drive\n",
    "lense_file = './lenses.data'\n",
    "lense_data = pd.read_csv(lense_file, header=None, sep='\\s+', names=columns, index_col=0)\n",
    "\n",
    "print(lense_data.shape)\n",
    "print(lense_data)"
   ]
  },
  {
   "cell_type": "code",
   "execution_count": 2,
   "metadata": {
    "id": "9ugxV1xXEk56"
   },
   "outputs": [],
   "source": [
    "# 處理資料\n",
    "# attribute :  age  prescription  astigmatic  rate\n",
    "idx_data = [i for i in range(lense_data.shape[1]) if i!=4]\n",
    "\n",
    "# attribute :  class\n",
    "idx_label = [4]\n",
    "\n",
    "lense_data = lense_data.values\n",
    "\n",
    "train_data = lense_data[:, idx_data]\n",
    "train_label = lense_data[:, idx_label]"
   ]
  },
  {
   "cell_type": "code",
   "execution_count": 3,
   "metadata": {
    "colab": {
     "base_uri": "https://localhost:8080/"
    },
    "id": "1bA_fqpRI4R5",
    "outputId": "ab714d6d-04ff-4e50-e813-4f65ab404ddc"
   },
   "outputs": [
    {
     "data": {
      "text/plain": [
       "DecisionTreeClassifier(criterion='entropy', max_depth=4, random_state=0)"
      ]
     },
     "execution_count": 3,
     "metadata": {},
     "output_type": "execute_result"
    }
   ],
   "source": [
    "# 建立決策樹分類器\n",
    "from sklearn.tree import DecisionTreeClassifier\n",
    "classifier = DecisionTreeClassifier(criterion = 'entropy', max_depth = 4, random_state = 0)\n",
    "classifier.fit(train_data, train_label)\n",
    "\n",
    "# 預測結果\n",
    "#classifier.predict(train_data)"
   ]
  },
  {
   "cell_type": "code",
   "execution_count": 4,
   "metadata": {
    "colab": {
     "base_uri": "https://localhost:8080/",
     "height": 521
    },
    "id": "perbHuj_Lu5p",
    "outputId": "44a49019-fe93-4c12-998f-67327e478c53"
   },
   "outputs": [
    {
     "data": {
      "text/plain": [
       "[Text(111.60000000000001, 195.696, 'rate <= 1.5\\nentropy = 1.326\\nsamples = 24\\nvalue = [4, 5, 15]'),\n",
       " Text(74.4, 152.208, 'entropy = 0.0\\nsamples = 12\\nvalue = [0, 0, 12]'),\n",
       " Text(148.8, 152.208, 'astigmatic <= 1.5\\nentropy = 1.555\\nsamples = 12\\nvalue = [4, 5, 3]'),\n",
       " Text(74.4, 108.72, 'age <= 2.5\\nentropy = 0.65\\nsamples = 6\\nvalue = [0, 5, 1]'),\n",
       " Text(37.2, 65.232, 'entropy = 0.0\\nsamples = 4\\nvalue = [0, 4, 0]'),\n",
       " Text(111.60000000000001, 65.232, 'prescription <= 1.5\\nentropy = 1.0\\nsamples = 2\\nvalue = [0, 1, 1]'),\n",
       " Text(74.4, 21.744, 'entropy = 0.0\\nsamples = 1\\nvalue = [0, 0, 1]'),\n",
       " Text(148.8, 21.744, 'entropy = 0.0\\nsamples = 1\\nvalue = [0, 1, 0]'),\n",
       " Text(223.20000000000002, 108.72, 'prescription <= 1.5\\nentropy = 0.918\\nsamples = 6\\nvalue = [4, 0, 2]'),\n",
       " Text(186.0, 65.232, 'entropy = 0.0\\nsamples = 3\\nvalue = [3, 0, 0]'),\n",
       " Text(260.40000000000003, 65.232, 'age <= 1.5\\nentropy = 0.918\\nsamples = 3\\nvalue = [1, 0, 2]'),\n",
       " Text(223.20000000000002, 21.744, 'entropy = 0.0\\nsamples = 1\\nvalue = [1, 0, 0]'),\n",
       " Text(297.6, 21.744, 'entropy = 0.0\\nsamples = 2\\nvalue = [0, 0, 2]')]"
      ]
     },
     "execution_count": 4,
     "metadata": {},
     "output_type": "execute_result"
    },
    {
     "data": {
      "image/png": "[encoded data removed]",
      "text/plain": [
       "<Figure size 432x288 with 1 Axes>"
      ]
     },
     "metadata": {
      "needs_background": "light"
     },
     "output_type": "display_data"
    }
   ],
   "source": [
    "# 繪製圖形\n",
    "from sklearn import tree\n",
    "tree.plot_tree(classifier, feature_names = ['age', 'prescription', 'astigmatic', 'rate'])"
   ]
  },
  {
   "cell_type": "code",
   "execution_count": 6,
   "metadata": {
    "colab": {
     "base_uri": "https://localhost:8080/",
     "height": 38
    },
    "id": "kkac3VtnKOk2",
    "outputId": "e71b9a97-70c5-42b4-cadb-2d584fb79337"
   },
   "outputs": [
    {
     "data": {
      "text/plain": [
       "'tree.pdf'"
      ]
     },
     "execution_count": 6,
     "metadata": {},
     "output_type": "execute_result"
    }
   ],
   "source": [
    "# 繪製圖形\n",
    "import graphviz\n",
    "from sklearn.tree import export_graphviz\n",
    "tree_dot = export_graphviz(classifier, out_file = None, feature_names=['age', 'prescription', 'astigmatic', 'rate'], filled=True, rounded=True, special_characters=True)\n",
    "graph = graphviz.Source(tree_dot)\n",
    "graph.render(\"tree\")"
   ]
  }
 ],
 "metadata": {
  "accelerator": "GPU",
  "colab": {
   "collapsed_sections": [],
   "name": "2021-ml-lenses.ipynb",
   "provenance": [],
   "toc_visible": true
  },
  "kernelspec": {
   "display_name": "Python 3",
   "language": "python",
   "name": "python3"
  },
  "language_info": {
   "codemirror_mode": {
    "name": "ipython",
    "version": 3
   },
   "file_extension": ".py",
   "mimetype": "text/x-python",
   "name": "python",
   "nbconvert_exporter": "python",
   "pygments_lexer": "ipython3",
   "version": "3.6.13"
  }
 },
 "nbformat": 4,
 "nbformat_minor": 1
}
